{
 "cells": [
  {
   "cell_type": "markdown",
   "id": "5b35551e-3b0e-46c3-b236-62526f1841e4",
   "metadata": {},
   "source": [
    "seperate location terms contain numbers, store them as panda dataframe"
   ]
  },
  {
   "cell_type": "code",
   "execution_count": 29,
   "id": "db31f354-4c80-4eea-93c6-b06f6b08982f",
   "metadata": {},
   "outputs": [
    {
     "name": "stdout",
     "output_type": "stream",
     "text": [
      "Collecting openpyxl\n",
      "  Downloading openpyxl-3.1.5-py2.py3-none-any.whl.metadata (2.5 kB)\n",
      "Collecting et-xmlfile (from openpyxl)\n",
      "  Downloading et_xmlfile-2.0.0-py3-none-any.whl.metadata (2.7 kB)\n",
      "Downloading openpyxl-3.1.5-py2.py3-none-any.whl (250 kB)\n",
      "Downloading et_xmlfile-2.0.0-py3-none-any.whl (18 kB)\n",
      "Installing collected packages: et-xmlfile, openpyxl\n",
      "Successfully installed et-xmlfile-2.0.0 openpyxl-3.1.5\n"
     ]
    }
   ],
   "source": [
    "!pip install openpyxl"
   ]
  },
  {
   "cell_type": "code",
   "execution_count": null,
   "id": "4f79faec-02ee-46d7-8245-b3c6ae66eacb",
   "metadata": {},
   "outputs": [],
   "source": [
    "from os import listdir\n",
    "from os.path import isfile, join\n",
    "import re\n",
    "import requests\n",
    "import json\n",
    "import pandas as pd\n",
    "\n",
    "df = pd.read_csv('deepseek_samples.csv', encoding=\"UTF-8\")\n",
    "#remove duplication\n",
    "df['doc_num'] = df['file_number'].str[:-2]\n",
    "df = df.drop_duplicates(subset=['doc_num', 'location'])\n",
    "sorted_df =df.sort_values(by=['file_number']).reset_index(drop = True)\n",
    "sorted_df"
   ]
  },
  {
   "cell_type": "code",
   "execution_count": 34,
   "id": "8c4490d3-1306-4e35-a4c8-1641d66c2e32",
   "metadata": {},
   "outputs": [],
   "source": [
    "numbers_rows = []\n",
    "location_rows = []\n",
    "for _, row in sorted_df.iterrows():\n",
    "     # Regular expression pattern to check if numbers in a string\n",
    "     pattern = r\"\\d\"\n",
    "     # Search for the pattern in the text\n",
    "     if re.search(pattern, row['location']):\n",
    "        numbers_rows.append({'location': row['location'].strip(), 'doc_num': row['file_number'][:-2]})\n",
    "     else:\n",
    "        location_rows.append({'location': row['location'].strip(), 'doc_num': row['file_number'][:-2]})\n",
    "\n",
    "num_df = pd.DataFrame(numbers_rows)\n",
    "loc_df = pd.DataFrame(location_rows)"
   ]
  },
  {
   "cell_type": "code",
   "execution_count": null,
   "id": "6b352e4e-b995-4253-8acc-bc49ceb3b921",
   "metadata": {},
   "outputs": [],
   "source": [
    "#load the official LGV address table as reference\n",
    "address_df = pd.read_csv('hamburg_address.csv')\n",
    "address_df.head(100)"
   ]
  },
  {
   "cell_type": "code",
   "execution_count": null,
   "id": "773fde02-2fbc-4e27-badb-15696d649106",
   "metadata": {},
   "outputs": [],
   "source": [
    "# merge LGV house number with street name\n",
    "address_df['combine'] = address_df['street_name'].str.lower() +  ' ' + address_df['num_zusatz']\n",
    "address_df"
   ]
  },
  {
   "cell_type": "code",
   "execution_count": null,
   "id": "296d0e6a-c327-4e96-970e-503e99932193",
   "metadata": {},
   "outputs": [],
   "source": [
    "# small letter geocoded location with house numbers, remove space\n",
    "num_df['combine'] = num_df['location'].str.lower()\n",
    "num_df"
   ]
  },
  {
   "cell_type": "code",
   "execution_count": null,
   "id": "c01644a6-86d4-4b38-805b-203e8df7cb03",
   "metadata": {},
   "outputs": [],
   "source": [
    "import numpy as np\n",
    "# compare geocoded house number table with LGV data, return coordinates\n",
    "# common_array = set(num_df['check'].values).intersection(set(address_df['combine']))\n",
    "common_df = pd.merge(num_df, address_df, on=['combine'], how='inner')\n",
    "common_df"
   ]
  },
  {
   "cell_type": "code",
   "execution_count": null,
   "id": "0c639234-f20d-433b-a75d-1ff29b69674e",
   "metadata": {},
   "outputs": [],
   "source": [
    "compare_df = common_df\n",
    "compare_df.drop(columns=['stadtteil','cX','cY','num_zusatz','street_name','fid','Thoroughfare'],inplace=True) \n",
    "compare_df"
   ]
  },
  {
   "cell_type": "code",
   "execution_count": 42,
   "id": "7c02e161-cce1-46f5-9c81-30d80477ba82",
   "metadata": {},
   "outputs": [
    {
     "data": {
      "text/html": [
       "<div>\n",
       "<style scoped>\n",
       "    .dataframe tbody tr th:only-of-type {\n",
       "        vertical-align: middle;\n",
       "    }\n",
       "\n",
       "    .dataframe tbody tr th {\n",
       "        vertical-align: top;\n",
       "    }\n",
       "\n",
       "    .dataframe thead th {\n",
       "        text-align: right;\n",
       "    }\n",
       "</style>\n",
       "<table border=\"1\" class=\"dataframe\">\n",
       "  <thead>\n",
       "    <tr style=\"text-align: right;\">\n",
       "      <th></th>\n",
       "      <th>location</th>\n",
       "      <th>doc_num</th>\n",
       "      <th>combine</th>\n",
       "    </tr>\n",
       "  </thead>\n",
       "  <tbody>\n",
       "  </tbody>\n",
       "</table>\n",
       "</div>"
      ],
      "text/plain": [
       "Empty DataFrame\n",
       "Columns: [location, doc_num, combine]\n",
       "Index: []"
      ]
     },
     "execution_count": 42,
     "metadata": {},
     "output_type": "execute_result"
    }
   ],
   "source": [
    "no_match = set(num_df['combine']) - set (compare_df['combine'])\n",
    "\n",
    "no_match_df = pd.DataFrame(columns=num_df.columns)\n",
    "no_match_df"
   ]
  },
  {
   "cell_type": "code",
   "execution_count": null,
   "id": "cebfd6b9-707f-4758-b783-b7eb5bfdbaae",
   "metadata": {},
   "outputs": [],
   "source": [
    "no_match_df = num_df[num_df['combine'].isin(no_match)].sort_values(by='doc_num').reset_index(drop=True)\n",
    "no_match_df"
   ]
  },
  {
   "cell_type": "code",
   "execution_count": null,
   "id": "7788d58d-2f65-4e77-bcf0-8baeedc70d19",
   "metadata": {},
   "outputs": [],
   "source": [
    "no_match_df['latitude'] = 0\n",
    "no_match_df['longitude'] = 0\n",
    "no_match_df"
   ]
  },
  {
   "cell_type": "code",
   "execution_count": null,
   "id": "10ade3d0-47b9-4333-86b7-84e4585677d6",
   "metadata": {},
   "outputs": [],
   "source": [
    "# call maapbox api for location tables that do not contain house numbers.\n",
    "\n",
    "from time import sleep\n",
    "\n",
    "def get_lat_lon(address):\n",
    "    mapbox_token = \"your_mapbox_api_key\"  # Replace with your actual Mapbox API key\n",
    "    url = f\"https://api.mapbox.com/search/geocode/v6/forward?q={address}\"\n",
    "    params = {\n",
    "        'access_token': mapbox_token,\n",
    "        'limit': 1,\n",
    "        'language': 'de',  # German language\n",
    "        'bbox': '9.65067,53.33928,10.39779,53.75625'  # Bounding box for Hamburg area\n",
    "    }\n",
    "   \n",
    "    max_retries = 3\n",
    "    for attempt in range(max_retries):\n",
    "        try:\n",
    "            response = requests.get(url, params=params)\n",
    "            response.raise_for_status()  # Raise an exception for bad status codes\n",
    "            data = response.json()\n",
    "            \n",
    "            if data['features']:\n",
    "                coordinates = data['features'][0]['geometry']['coordinates']\n",
    "                print(f\"Location: {address}, Coordinates: {coordinates}\")\n",
    "                return address, coordinates[1], coordinates[0]\n",
    "            else:\n",
    "                print(f\"No results found for address: {address}\")\n",
    "                return address, None, None\n",
    "        except requests.exceptions.RequestException as e:\n",
    "            print(f\"Error: {e} for address: {address}\")\n",
    "            if attempt < max_retries - 1:\n",
    "                print(f\"Retrying... (Attempt {attempt + 2}/{max_retries})\")\n",
    "                sleep(1)  # Wait for 1 second before retrying\n",
    "            else:\n",
    "                print(f\"Max retries reached for address: {address}\")\n",
    "                return address, None, None\n",
    "\n",
    "def geocode_dataframe(no_match_df, location_column='location'):\n",
    "    geocoded_data = []\n",
    "    for address in no_match_df[location_column]:\n",
    "        location, lat, lon = get_lat_lon(address)\n",
    "        geocoded_data.append({'location': location, 'latitude': lat, 'longitude': lon})\n",
    "        sleep(0.1)  # Add a small delay to avoid hitting rate limits\n",
    "    \n",
    "    geocoded_df = pd.DataFrame(geocoded_data)\n",
    "    return pd.concat([no_match_df, geocoded_df[['latitude', 'longitude']]], axis=1)\n",
    "\n",
    "# Usage example\n",
    "geocoded_df = geocode_dataframe(no_match_df)\n",
    "print(geocoded_df)"
   ]
  },
  {
   "cell_type": "code",
   "execution_count": 56,
   "id": "74269ccc-c68d-4145-bd32-c8c162c3921a",
   "metadata": {},
   "outputs": [],
   "source": [
    "geocoded_df"
   ]
  },
  {
   "cell_type": "code",
   "execution_count": null,
   "id": "c579281d-77d9-48b1-8f0a-3de41e777aac",
   "metadata": {},
   "outputs": [],
   "source": [
    "common_df"
   ]
  },
  {
   "cell_type": "code",
   "execution_count": 51,
   "id": "e7f70a00-7dda-41b3-a2fb-a1714b2d0365",
   "metadata": {},
   "outputs": [],
   "source": [
    "import openpyxl\n",
    "common_df.to_excel('geocode_deepseek_lgv.xlsx', index=False)\n",
    "geocoded_df.to_excel('geocode_deepseek_mapbox.xlsx', index=False)"
   ]
  },
  {
   "cell_type": "code",
   "execution_count": null,
   "id": "1c050926-b46b-4400-a965-6b41d1168e24",
   "metadata": {},
   "outputs": [],
   "source": [
    "#geocoded addresses without house numbers with mapbox\n",
    "geocoded_df = geocode_dataframe(loc_df)\n",
    "print(geocoded_df)"
   ]
  },
  {
   "cell_type": "code",
   "execution_count": null,
   "id": "9fee7812-4978-4422-8edc-f4c032be2e14",
   "metadata": {},
   "outputs": [],
   "source": [
    "geocoded_df.to_excel('geocode_deepseek_no_numbers.xlsx', index=False)"
   ]
  }
 ],
 "metadata": {
  "kernelspec": {
   "display_name": "Python 3 (ipykernel)",
   "language": "python",
   "name": "python3"
  },
  "language_info": {
   "codemirror_mode": {
    "name": "ipython",
    "version": 3
   },
   "file_extension": ".py",
   "mimetype": "text/x-python",
   "name": "python",
   "nbconvert_exporter": "python",
   "pygments_lexer": "ipython3",
   "version": "3.11.10"
  }
 },
 "nbformat": 4,
 "nbformat_minor": 5
}
