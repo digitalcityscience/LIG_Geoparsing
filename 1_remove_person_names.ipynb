{
 "cells": [
  {
   "cell_type": "markdown",
   "id": "28476618-a2be-4c40-a358-5fb0a6fa9089",
   "metadata": {},
   "source": [
    "Remove personal names with flair-ger-large"
   ]
  },
  {
   "cell_type": "code",
   "execution_count": 7,
   "id": "82081a19-8aeb-4975-b88b-5492e38e7f74",
   "metadata": {},
   "outputs": [
    {
     "name": "stdout",
     "output_type": "stream",
     "text": [
      "['22_5213_1.txt', '22_5213_2.txt', '22_5213_3.txt', '22_5213_4.txt', '22_5213_5.txt', '22_5213_6.txt']\n",
      "6\n"
     ]
    }
   ],
   "source": [
    "from os import listdir\n",
    "from os.path import isfile, join\n",
    "import re\n",
    "\n",
    "# give a folder location for input text files\n",
    "input_folder=\"5213/pdf/txt/\"\n",
    "txt_files = [f for f in listdir(input_folder) if isfile(join(input_folder, f)) and (\"txt\" in f)]\n",
    "txt_files.sort()\n",
    "print(str(txt_files))\n",
    "print(len(txt_files))"
   ]
  },
  {
   "cell_type": "code",
   "execution_count": 8,
   "id": "73f38bfa-60d3-496e-93f1-6fdf77f9c64d",
   "metadata": {},
   "outputs": [
    {
     "name": "stdout",
     "output_type": "stream",
     "text": [
      "Requirement already satisfied: flair in ./conda/conda_env/myenv/lib/python3.11/site-packages (0.15.1)\n",
      "Requirement already satisfied: boto3>=1.20.27 in ./conda/conda_env/myenv/lib/python3.11/site-packages (from flair) (1.35.58)\n",
      "Requirement already satisfied: conllu<5.0.0,>=4.0 in ./conda/conda_env/myenv/lib/python3.11/site-packages (from flair) (4.5.3)\n",
      "Requirement already satisfied: deprecated>=1.2.13 in /home/it4i-chang505/.local/lib/python3.11/site-packages (from flair) (1.2.14)\n",
      "Requirement already satisfied: ftfy>=6.1.0 in ./conda/conda_env/myenv/lib/python3.11/site-packages (from flair) (6.3.1)\n",
      "Requirement already satisfied: gdown>=4.4.0 in ./conda/conda_env/myenv/lib/python3.11/site-packages (from flair) (5.2.0)\n",
      "Requirement already satisfied: huggingface-hub>=0.10.0 in ./conda/conda_env/myenv/lib/python3.11/site-packages (from flair) (0.26.2)\n",
      "Requirement already satisfied: langdetect>=1.0.9 in ./conda/conda_env/myenv/lib/python3.11/site-packages (from flair) (1.0.9)\n",
      "Requirement already satisfied: lxml>=4.8.0 in ./conda/conda_env/myenv/lib/python3.11/site-packages (from flair) (5.3.0)\n",
      "Requirement already satisfied: matplotlib>=2.2.3 in ./conda/conda_env/myenv/lib/python3.11/site-packages (from flair) (3.9.2)\n",
      "Requirement already satisfied: more-itertools>=8.13.0 in ./conda/conda_env/myenv/lib/python3.11/site-packages (from flair) (10.6.0)\n",
      "Requirement already satisfied: mpld3>=0.3 in ./conda/conda_env/myenv/lib/python3.11/site-packages (from flair) (0.5.10)\n",
      "Requirement already satisfied: pptree>=3.1 in ./conda/conda_env/myenv/lib/python3.11/site-packages (from flair) (3.1)\n",
      "Requirement already satisfied: python-dateutil>=2.8.2 in ./conda/conda_env/myenv/lib/python3.11/site-packages (from flair) (2.9.0.post0)\n",
      "Requirement already satisfied: pytorch-revgrad>=0.2.0 in ./conda/conda_env/myenv/lib/python3.11/site-packages (from flair) (0.2.0)\n",
      "Requirement already satisfied: regex>=2022.1.18 in ./conda/conda_env/myenv/lib/python3.11/site-packages (from flair) (2024.11.6)\n",
      "Requirement already satisfied: scikit-learn>=1.0.2 in ./conda/conda_env/myenv/lib/python3.11/site-packages (from flair) (1.5.2)\n",
      "Requirement already satisfied: segtok>=1.5.11 in ./conda/conda_env/myenv/lib/python3.11/site-packages (from flair) (1.5.11)\n",
      "Requirement already satisfied: sqlitedict>=2.0.0 in ./conda/conda_env/myenv/lib/python3.11/site-packages (from flair) (2.1.0)\n",
      "Requirement already satisfied: tabulate>=0.8.10 in ./conda/conda_env/myenv/lib/python3.11/site-packages (from flair) (0.9.0)\n",
      "Requirement already satisfied: torch>=1.13.1 in /home/it4i-chang505/.local/lib/python3.11/site-packages (from flair) (2.4.1)\n",
      "Requirement already satisfied: tqdm>=4.63.0 in /home/it4i-chang505/.local/lib/python3.11/site-packages (from flair) (4.66.5)\n",
      "Requirement already satisfied: transformer-smaller-training-vocab>=0.2.3 in ./conda/conda_env/myenv/lib/python3.11/site-packages (from flair) (0.4.0)\n",
      "Requirement already satisfied: transformers<5.0.0,>=4.25.0 in ./conda/conda_env/myenv/lib/python3.11/site-packages (from transformers[sentencepiece]<5.0.0,>=4.25.0->flair) (4.46.2)\n",
      "Requirement already satisfied: wikipedia-api>=0.5.7 in ./conda/conda_env/myenv/lib/python3.11/site-packages (from flair) (0.8.1)\n",
      "Requirement already satisfied: bioc<3.0.0,>=2.0.0 in ./conda/conda_env/myenv/lib/python3.11/site-packages (from flair) (2.1)\n",
      "Requirement already satisfied: jsonlines>=1.2.0 in ./conda/conda_env/myenv/lib/python3.11/site-packages (from bioc<3.0.0,>=2.0.0->flair) (4.0.0)\n",
      "Requirement already satisfied: intervaltree in ./conda/conda_env/myenv/lib/python3.11/site-packages (from bioc<3.0.0,>=2.0.0->flair) (3.1.0)\n",
      "Requirement already satisfied: docopt in ./conda/conda_env/myenv/lib/python3.11/site-packages (from bioc<3.0.0,>=2.0.0->flair) (0.6.2)\n",
      "Requirement already satisfied: botocore<1.36.0,>=1.35.58 in ./conda/conda_env/myenv/lib/python3.11/site-packages (from boto3>=1.20.27->flair) (1.35.58)\n",
      "Requirement already satisfied: jmespath<2.0.0,>=0.7.1 in ./conda/conda_env/myenv/lib/python3.11/site-packages (from boto3>=1.20.27->flair) (1.0.1)\n",
      "Requirement already satisfied: s3transfer<0.11.0,>=0.10.0 in ./conda/conda_env/myenv/lib/python3.11/site-packages (from boto3>=1.20.27->flair) (0.10.3)\n",
      "Requirement already satisfied: wrapt<2,>=1.10 in ./conda/conda_env/myenv/lib/python3.11/site-packages (from deprecated>=1.2.13->flair) (1.16.0)\n",
      "Requirement already satisfied: wcwidth in ./conda/conda_env/myenv/lib/python3.11/site-packages (from ftfy>=6.1.0->flair) (0.2.13)\n",
      "Requirement already satisfied: beautifulsoup4 in /home/it4i-chang505/.local/lib/python3.11/site-packages (from gdown>=4.4.0->flair) (4.12.3)\n",
      "Requirement already satisfied: filelock in ./conda/conda_env/myenv/lib/python3.11/site-packages (from gdown>=4.4.0->flair) (3.16.1)\n",
      "Requirement already satisfied: requests[socks] in /home/it4i-chang505/.local/lib/python3.11/site-packages (from gdown>=4.4.0->flair) (2.32.3)\n",
      "Requirement already satisfied: fsspec>=2023.5.0 in ./conda/conda_env/myenv/lib/python3.11/site-packages (from huggingface-hub>=0.10.0->flair) (2024.9.0)\n",
      "Requirement already satisfied: packaging>=20.9 in /home/it4i-chang505/.local/lib/python3.11/site-packages (from huggingface-hub>=0.10.0->flair) (24.1)\n",
      "Requirement already satisfied: pyyaml>=5.1 in ./conda/conda_env/myenv/lib/python3.11/site-packages (from huggingface-hub>=0.10.0->flair) (6.0.2)\n",
      "Requirement already satisfied: typing-extensions>=3.7.4.3 in /home/it4i-chang505/.local/lib/python3.11/site-packages (from huggingface-hub>=0.10.0->flair) (4.12.2)\n",
      "Requirement already satisfied: six in ./conda/conda_env/myenv/lib/python3.11/site-packages (from langdetect>=1.0.9->flair) (1.16.0)\n",
      "Requirement already satisfied: contourpy>=1.0.1 in ./conda/conda_env/myenv/lib/python3.11/site-packages (from matplotlib>=2.2.3->flair) (1.3.1)\n",
      "Requirement already satisfied: cycler>=0.10 in ./conda/conda_env/myenv/lib/python3.11/site-packages (from matplotlib>=2.2.3->flair) (0.12.1)\n",
      "Requirement already satisfied: fonttools>=4.22.0 in ./conda/conda_env/myenv/lib/python3.11/site-packages (from matplotlib>=2.2.3->flair) (4.54.1)\n",
      "Requirement already satisfied: kiwisolver>=1.3.1 in ./conda/conda_env/myenv/lib/python3.11/site-packages (from matplotlib>=2.2.3->flair) (1.4.7)\n",
      "Requirement already satisfied: numpy>=1.23 in ./conda/conda_env/myenv/lib/python3.11/site-packages (from matplotlib>=2.2.3->flair) (1.26.4)\n",
      "Requirement already satisfied: pillow>=8 in ./conda/conda_env/myenv/lib/python3.11/site-packages (from matplotlib>=2.2.3->flair) (11.0.0)\n",
      "Requirement already satisfied: pyparsing>=2.3.1 in ./conda/conda_env/myenv/lib/python3.11/site-packages (from matplotlib>=2.2.3->flair) (3.2.0)\n",
      "Requirement already satisfied: jinja2 in ./conda/conda_env/myenv/lib/python3.11/site-packages (from mpld3>=0.3->flair) (3.1.4)\n",
      "Requirement already satisfied: scipy>=1.6.0 in ./conda/conda_env/myenv/lib/python3.11/site-packages (from scikit-learn>=1.0.2->flair) (1.14.1)\n",
      "Requirement already satisfied: joblib>=1.2.0 in ./conda/conda_env/myenv/lib/python3.11/site-packages (from scikit-learn>=1.0.2->flair) (1.4.2)\n",
      "Requirement already satisfied: threadpoolctl>=3.1.0 in ./conda/conda_env/myenv/lib/python3.11/site-packages (from scikit-learn>=1.0.2->flair) (3.5.0)\n",
      "Requirement already satisfied: sympy in ./conda/conda_env/myenv/lib/python3.11/site-packages (from torch>=1.13.1->flair) (1.13.3)\n",
      "Requirement already satisfied: networkx in ./conda/conda_env/myenv/lib/python3.11/site-packages (from torch>=1.13.1->flair) (3.4.2)\n",
      "Requirement already satisfied: nvidia-cuda-nvrtc-cu12==12.1.105 in /home/it4i-chang505/.local/lib/python3.11/site-packages (from torch>=1.13.1->flair) (12.1.105)\n",
      "Requirement already satisfied: nvidia-cuda-runtime-cu12==12.1.105 in /home/it4i-chang505/.local/lib/python3.11/site-packages (from torch>=1.13.1->flair) (12.1.105)\n",
      "Requirement already satisfied: nvidia-cuda-cupti-cu12==12.1.105 in /home/it4i-chang505/.local/lib/python3.11/site-packages (from torch>=1.13.1->flair) (12.1.105)\n",
      "Requirement already satisfied: nvidia-cudnn-cu12==9.1.0.70 in /home/it4i-chang505/.local/lib/python3.11/site-packages (from torch>=1.13.1->flair) (9.1.0.70)\n",
      "Requirement already satisfied: nvidia-cublas-cu12==12.1.3.1 in /home/it4i-chang505/.local/lib/python3.11/site-packages (from torch>=1.13.1->flair) (12.1.3.1)\n",
      "Requirement already satisfied: nvidia-cufft-cu12==11.0.2.54 in /home/it4i-chang505/.local/lib/python3.11/site-packages (from torch>=1.13.1->flair) (11.0.2.54)\n",
      "Requirement already satisfied: nvidia-curand-cu12==10.3.2.106 in /home/it4i-chang505/.local/lib/python3.11/site-packages (from torch>=1.13.1->flair) (10.3.2.106)\n",
      "Requirement already satisfied: nvidia-cusolver-cu12==11.4.5.107 in /home/it4i-chang505/.local/lib/python3.11/site-packages (from torch>=1.13.1->flair) (11.4.5.107)\n",
      "Requirement already satisfied: nvidia-cusparse-cu12==12.1.0.106 in /home/it4i-chang505/.local/lib/python3.11/site-packages (from torch>=1.13.1->flair) (12.1.0.106)\n",
      "Requirement already satisfied: nvidia-nccl-cu12==2.20.5 in /home/it4i-chang505/.local/lib/python3.11/site-packages (from torch>=1.13.1->flair) (2.20.5)\n",
      "Requirement already satisfied: nvidia-nvtx-cu12==12.1.105 in /home/it4i-chang505/.local/lib/python3.11/site-packages (from torch>=1.13.1->flair) (12.1.105)\n",
      "Requirement already satisfied: triton==3.0.0 in /home/it4i-chang505/.local/lib/python3.11/site-packages (from torch>=1.13.1->flair) (3.0.0)\n",
      "Requirement already satisfied: nvidia-nvjitlink-cu12 in /home/it4i-chang505/.local/lib/python3.11/site-packages (from nvidia-cusolver-cu12==11.4.5.107->torch>=1.13.1->flair) (12.6.77)\n",
      "Requirement already satisfied: safetensors>=0.4.1 in /home/it4i-chang505/.local/lib/python3.11/site-packages (from transformers<5.0.0,>=4.25.0->transformers[sentencepiece]<5.0.0,>=4.25.0->flair) (0.4.5)\n",
      "Requirement already satisfied: tokenizers<0.21,>=0.20 in /home/it4i-chang505/.local/lib/python3.11/site-packages (from transformers<5.0.0,>=4.25.0->transformers[sentencepiece]<5.0.0,>=4.25.0->flair) (0.20.1)\n",
      "Requirement already satisfied: protobuf in ./conda/conda_env/myenv/lib/python3.11/site-packages (from transformers[sentencepiece]<5.0.0,>=4.25.0->flair) (3.20.3)\n",
      "Requirement already satisfied: sentencepiece!=0.1.92,>=0.1.91 in ./conda/conda_env/myenv/lib/python3.11/site-packages (from transformers[sentencepiece]<5.0.0,>=4.25.0->flair) (0.2.0)\n",
      "Requirement already satisfied: urllib3!=2.2.0,<3,>=1.25.4 in ./conda/conda_env/myenv/lib/python3.11/site-packages (from botocore<1.36.0,>=1.35.58->boto3>=1.20.27->flair) (2.2.3)\n",
      "Requirement already satisfied: attrs>=19.2.0 in ./conda/conda_env/myenv/lib/python3.11/site-packages (from jsonlines>=1.2.0->bioc<3.0.0,>=2.0.0->flair) (24.2.0)\n",
      "Requirement already satisfied: accelerate>=0.26.0 in ./conda/conda_env/myenv/lib/python3.11/site-packages (from transformers[sentencepiece,torch]<5.0,>=4.1->transformer-smaller-training-vocab>=0.2.3->flair) (1.1.1)\n",
      "Requirement already satisfied: soupsieve>1.2 in ./conda/conda_env/myenv/lib/python3.11/site-packages (from beautifulsoup4->gdown>=4.4.0->flair) (2.6)\n",
      "Requirement already satisfied: sortedcontainers<3.0,>=2.0 in ./conda/conda_env/myenv/lib/python3.11/site-packages (from intervaltree->bioc<3.0.0,>=2.0.0->flair) (2.4.0)\n",
      "Requirement already satisfied: MarkupSafe>=2.0 in ./conda/conda_env/myenv/lib/python3.11/site-packages (from jinja2->mpld3>=0.3->flair) (2.1.5)\n",
      "Requirement already satisfied: charset-normalizer<4,>=2 in ./conda/conda_env/myenv/lib/python3.11/site-packages (from requests[socks]->gdown>=4.4.0->flair) (3.4.0)\n",
      "Requirement already satisfied: idna<4,>=2.5 in ./conda/conda_env/myenv/lib/python3.11/site-packages (from requests[socks]->gdown>=4.4.0->flair) (3.10)\n",
      "Requirement already satisfied: certifi>=2017.4.17 in ./conda/conda_env/myenv/lib/python3.11/site-packages (from requests[socks]->gdown>=4.4.0->flair) (2024.8.30)\n",
      "Requirement already satisfied: PySocks!=1.5.7,>=1.5.6 in ./conda/conda_env/myenv/lib/python3.11/site-packages (from requests[socks]->gdown>=4.4.0->flair) (1.7.1)\n",
      "Requirement already satisfied: mpmath<1.4,>=1.1.0 in ./conda/conda_env/myenv/lib/python3.11/site-packages (from sympy->torch>=1.13.1->flair) (1.3.0)\n",
      "Requirement already satisfied: psutil in ./conda/conda_env/myenv/lib/python3.11/site-packages (from accelerate>=0.26.0->transformers[sentencepiece,torch]<5.0,>=4.1->transformer-smaller-training-vocab>=0.2.3->flair) (5.9.8)\n"
     ]
    }
   ],
   "source": [
    "!pip install flair"
   ]
  },
  {
   "cell_type": "code",
   "execution_count": 11,
   "id": "c3f9881c-fe56-4822-8564-ddc65171dea0",
   "metadata": {},
   "outputs": [
    {
     "name": "stdout",
     "output_type": "stream",
     "text": [
      "Requirement already satisfied: langchain in /home/it4i-chang505/.local/lib/python3.11/site-packages (0.3.3)\n",
      "Requirement already satisfied: PyYAML>=5.3 in ./conda/conda_env/myenv/lib/python3.11/site-packages (from langchain) (6.0.2)\n",
      "Requirement already satisfied: SQLAlchemy<3,>=1.4 in ./conda/conda_env/myenv/lib/python3.11/site-packages (from langchain) (2.0.36)\n",
      "Requirement already satisfied: aiohttp<4.0.0,>=3.8.3 in ./conda/conda_env/myenv/lib/python3.11/site-packages (from langchain) (3.10.10)\n",
      "Requirement already satisfied: langchain-core<0.4.0,>=0.3.10 in /home/it4i-chang505/.local/lib/python3.11/site-packages (from langchain) (0.3.10)\n",
      "Requirement already satisfied: langchain-text-splitters<0.4.0,>=0.3.0 in /home/it4i-chang505/.local/lib/python3.11/site-packages (from langchain) (0.3.0)\n",
      "Requirement already satisfied: langsmith<0.2.0,>=0.1.17 in /home/it4i-chang505/.local/lib/python3.11/site-packages (from langchain) (0.1.133)\n",
      "Requirement already satisfied: numpy<2,>=1 in ./conda/conda_env/myenv/lib/python3.11/site-packages (from langchain) (1.26.4)\n",
      "Requirement already satisfied: pydantic<3.0.0,>=2.7.4 in /home/it4i-chang505/.local/lib/python3.11/site-packages (from langchain) (2.9.2)\n",
      "Requirement already satisfied: requests<3,>=2 in /home/it4i-chang505/.local/lib/python3.11/site-packages (from langchain) (2.32.3)\n",
      "Requirement already satisfied: tenacity!=8.4.0,<9.0.0,>=8.1.0 in ./conda/conda_env/myenv/lib/python3.11/site-packages (from langchain) (8.5.0)\n",
      "Requirement already satisfied: aiohappyeyeballs>=2.3.0 in ./conda/conda_env/myenv/lib/python3.11/site-packages (from aiohttp<4.0.0,>=3.8.3->langchain) (2.4.3)\n",
      "Requirement already satisfied: aiosignal>=1.1.2 in ./conda/conda_env/myenv/lib/python3.11/site-packages (from aiohttp<4.0.0,>=3.8.3->langchain) (1.3.1)\n",
      "Requirement already satisfied: attrs>=17.3.0 in ./conda/conda_env/myenv/lib/python3.11/site-packages (from aiohttp<4.0.0,>=3.8.3->langchain) (24.2.0)\n",
      "Requirement already satisfied: frozenlist>=1.1.1 in ./conda/conda_env/myenv/lib/python3.11/site-packages (from aiohttp<4.0.0,>=3.8.3->langchain) (1.5.0)\n",
      "Requirement already satisfied: multidict<7.0,>=4.5 in ./conda/conda_env/myenv/lib/python3.11/site-packages (from aiohttp<4.0.0,>=3.8.3->langchain) (6.1.0)\n",
      "Requirement already satisfied: yarl<2.0,>=1.12.0 in ./conda/conda_env/myenv/lib/python3.11/site-packages (from aiohttp<4.0.0,>=3.8.3->langchain) (1.17.1)\n",
      "Requirement already satisfied: jsonpatch<2.0,>=1.33 in /home/it4i-chang505/.local/lib/python3.11/site-packages (from langchain-core<0.4.0,>=0.3.10->langchain) (1.33)\n",
      "Requirement already satisfied: packaging<25,>=23.2 in /home/it4i-chang505/.local/lib/python3.11/site-packages (from langchain-core<0.4.0,>=0.3.10->langchain) (24.1)\n",
      "Requirement already satisfied: typing-extensions>=4.7 in /home/it4i-chang505/.local/lib/python3.11/site-packages (from langchain-core<0.4.0,>=0.3.10->langchain) (4.12.2)\n",
      "Requirement already satisfied: httpx<1,>=0.23.0 in /home/it4i-chang505/.local/lib/python3.11/site-packages (from langsmith<0.2.0,>=0.1.17->langchain) (0.27.2)\n",
      "Requirement already satisfied: orjson<4.0.0,>=3.9.14 in /home/it4i-chang505/.local/lib/python3.11/site-packages (from langsmith<0.2.0,>=0.1.17->langchain) (3.10.7)\n",
      "Requirement already satisfied: requests-toolbelt<2.0.0,>=1.0.0 in ./conda/conda_env/myenv/lib/python3.11/site-packages (from langsmith<0.2.0,>=0.1.17->langchain) (1.0.0)\n",
      "Requirement already satisfied: annotated-types>=0.6.0 in /home/it4i-chang505/.local/lib/python3.11/site-packages (from pydantic<3.0.0,>=2.7.4->langchain) (0.7.0)\n",
      "Requirement already satisfied: pydantic-core==2.23.4 in /home/it4i-chang505/.local/lib/python3.11/site-packages (from pydantic<3.0.0,>=2.7.4->langchain) (2.23.4)\n",
      "Requirement already satisfied: charset-normalizer<4,>=2 in ./conda/conda_env/myenv/lib/python3.11/site-packages (from requests<3,>=2->langchain) (3.4.0)\n",
      "Requirement already satisfied: idna<4,>=2.5 in ./conda/conda_env/myenv/lib/python3.11/site-packages (from requests<3,>=2->langchain) (3.10)\n",
      "Requirement already satisfied: urllib3<3,>=1.21.1 in ./conda/conda_env/myenv/lib/python3.11/site-packages (from requests<3,>=2->langchain) (2.2.3)\n",
      "Requirement already satisfied: certifi>=2017.4.17 in ./conda/conda_env/myenv/lib/python3.11/site-packages (from requests<3,>=2->langchain) (2024.8.30)\n",
      "Requirement already satisfied: greenlet!=0.4.17 in ./conda/conda_env/myenv/lib/python3.11/site-packages (from SQLAlchemy<3,>=1.4->langchain) (3.1.1)\n",
      "Requirement already satisfied: anyio in ./conda/conda_env/myenv/lib/python3.11/site-packages (from httpx<1,>=0.23.0->langsmith<0.2.0,>=0.1.17->langchain) (4.8.0)\n",
      "Requirement already satisfied: httpcore==1.* in /home/it4i-chang505/.local/lib/python3.11/site-packages (from httpx<1,>=0.23.0->langsmith<0.2.0,>=0.1.17->langchain) (1.0.5)\n",
      "Requirement already satisfied: sniffio in ./conda/conda_env/myenv/lib/python3.11/site-packages (from httpx<1,>=0.23.0->langsmith<0.2.0,>=0.1.17->langchain) (1.3.1)\n",
      "Requirement already satisfied: h11<0.15,>=0.13 in /home/it4i-chang505/.local/lib/python3.11/site-packages (from httpcore==1.*->httpx<1,>=0.23.0->langsmith<0.2.0,>=0.1.17->langchain) (0.14.0)\n",
      "Requirement already satisfied: jsonpointer>=1.9 in ./conda/conda_env/myenv/lib/python3.11/site-packages (from jsonpatch<2.0,>=1.33->langchain-core<0.4.0,>=0.3.10->langchain) (3.0.0)\n",
      "Requirement already satisfied: propcache>=0.2.0 in ./conda/conda_env/myenv/lib/python3.11/site-packages (from yarl<2.0,>=1.12.0->aiohttp<4.0.0,>=3.8.3->langchain) (0.2.0)\n",
      "Collecting sentence-transformers\n",
      "  Downloading sentence_transformers-3.4.1-py3-none-any.whl.metadata (10 kB)\n",
      "Requirement already satisfied: transformers<5.0.0,>=4.41.0 in ./conda/conda_env/myenv/lib/python3.11/site-packages (from sentence-transformers) (4.46.2)\n",
      "Requirement already satisfied: tqdm in /home/it4i-chang505/.local/lib/python3.11/site-packages (from sentence-transformers) (4.66.5)\n",
      "Requirement already satisfied: torch>=1.11.0 in /home/it4i-chang505/.local/lib/python3.11/site-packages (from sentence-transformers) (2.4.1)\n",
      "Requirement already satisfied: scikit-learn in ./conda/conda_env/myenv/lib/python3.11/site-packages (from sentence-transformers) (1.5.2)\n",
      "Requirement already satisfied: scipy in ./conda/conda_env/myenv/lib/python3.11/site-packages (from sentence-transformers) (1.14.1)\n",
      "Requirement already satisfied: huggingface-hub>=0.20.0 in ./conda/conda_env/myenv/lib/python3.11/site-packages (from sentence-transformers) (0.26.2)\n",
      "Requirement already satisfied: Pillow in ./conda/conda_env/myenv/lib/python3.11/site-packages (from sentence-transformers) (11.0.0)\n",
      "Requirement already satisfied: filelock in ./conda/conda_env/myenv/lib/python3.11/site-packages (from huggingface-hub>=0.20.0->sentence-transformers) (3.16.1)\n",
      "Requirement already satisfied: fsspec>=2023.5.0 in ./conda/conda_env/myenv/lib/python3.11/site-packages (from huggingface-hub>=0.20.0->sentence-transformers) (2024.9.0)\n",
      "Requirement already satisfied: packaging>=20.9 in /home/it4i-chang505/.local/lib/python3.11/site-packages (from huggingface-hub>=0.20.0->sentence-transformers) (24.1)\n",
      "Requirement already satisfied: pyyaml>=5.1 in ./conda/conda_env/myenv/lib/python3.11/site-packages (from huggingface-hub>=0.20.0->sentence-transformers) (6.0.2)\n",
      "Requirement already satisfied: requests in /home/it4i-chang505/.local/lib/python3.11/site-packages (from huggingface-hub>=0.20.0->sentence-transformers) (2.32.3)\n",
      "Requirement already satisfied: typing-extensions>=3.7.4.3 in /home/it4i-chang505/.local/lib/python3.11/site-packages (from huggingface-hub>=0.20.0->sentence-transformers) (4.12.2)\n",
      "Requirement already satisfied: sympy in ./conda/conda_env/myenv/lib/python3.11/site-packages (from torch>=1.11.0->sentence-transformers) (1.13.3)\n",
      "Requirement already satisfied: networkx in ./conda/conda_env/myenv/lib/python3.11/site-packages (from torch>=1.11.0->sentence-transformers) (3.4.2)\n",
      "Requirement already satisfied: jinja2 in ./conda/conda_env/myenv/lib/python3.11/site-packages (from torch>=1.11.0->sentence-transformers) (3.1.4)\n",
      "Requirement already satisfied: nvidia-cuda-nvrtc-cu12==12.1.105 in /home/it4i-chang505/.local/lib/python3.11/site-packages (from torch>=1.11.0->sentence-transformers) (12.1.105)\n",
      "Requirement already satisfied: nvidia-cuda-runtime-cu12==12.1.105 in /home/it4i-chang505/.local/lib/python3.11/site-packages (from torch>=1.11.0->sentence-transformers) (12.1.105)\n",
      "Requirement already satisfied: nvidia-cuda-cupti-cu12==12.1.105 in /home/it4i-chang505/.local/lib/python3.11/site-packages (from torch>=1.11.0->sentence-transformers) (12.1.105)\n",
      "Requirement already satisfied: nvidia-cudnn-cu12==9.1.0.70 in /home/it4i-chang505/.local/lib/python3.11/site-packages (from torch>=1.11.0->sentence-transformers) (9.1.0.70)\n",
      "Requirement already satisfied: nvidia-cublas-cu12==12.1.3.1 in /home/it4i-chang505/.local/lib/python3.11/site-packages (from torch>=1.11.0->sentence-transformers) (12.1.3.1)\n",
      "Requirement already satisfied: nvidia-cufft-cu12==11.0.2.54 in /home/it4i-chang505/.local/lib/python3.11/site-packages (from torch>=1.11.0->sentence-transformers) (11.0.2.54)\n",
      "Requirement already satisfied: nvidia-curand-cu12==10.3.2.106 in /home/it4i-chang505/.local/lib/python3.11/site-packages (from torch>=1.11.0->sentence-transformers) (10.3.2.106)\n",
      "Requirement already satisfied: nvidia-cusolver-cu12==11.4.5.107 in /home/it4i-chang505/.local/lib/python3.11/site-packages (from torch>=1.11.0->sentence-transformers) (11.4.5.107)\n",
      "Requirement already satisfied: nvidia-cusparse-cu12==12.1.0.106 in /home/it4i-chang505/.local/lib/python3.11/site-packages (from torch>=1.11.0->sentence-transformers) (12.1.0.106)\n",
      "Requirement already satisfied: nvidia-nccl-cu12==2.20.5 in /home/it4i-chang505/.local/lib/python3.11/site-packages (from torch>=1.11.0->sentence-transformers) (2.20.5)\n",
      "Requirement already satisfied: nvidia-nvtx-cu12==12.1.105 in /home/it4i-chang505/.local/lib/python3.11/site-packages (from torch>=1.11.0->sentence-transformers) (12.1.105)\n",
      "Requirement already satisfied: triton==3.0.0 in /home/it4i-chang505/.local/lib/python3.11/site-packages (from torch>=1.11.0->sentence-transformers) (3.0.0)\n",
      "Requirement already satisfied: nvidia-nvjitlink-cu12 in /home/it4i-chang505/.local/lib/python3.11/site-packages (from nvidia-cusolver-cu12==11.4.5.107->torch>=1.11.0->sentence-transformers) (12.6.77)\n",
      "Requirement already satisfied: numpy>=1.17 in ./conda/conda_env/myenv/lib/python3.11/site-packages (from transformers<5.0.0,>=4.41.0->sentence-transformers) (1.26.4)\n",
      "Requirement already satisfied: regex!=2019.12.17 in ./conda/conda_env/myenv/lib/python3.11/site-packages (from transformers<5.0.0,>=4.41.0->sentence-transformers) (2024.11.6)\n",
      "Requirement already satisfied: safetensors>=0.4.1 in /home/it4i-chang505/.local/lib/python3.11/site-packages (from transformers<5.0.0,>=4.41.0->sentence-transformers) (0.4.5)\n",
      "Requirement already satisfied: tokenizers<0.21,>=0.20 in /home/it4i-chang505/.local/lib/python3.11/site-packages (from transformers<5.0.0,>=4.41.0->sentence-transformers) (0.20.1)\n",
      "Requirement already satisfied: joblib>=1.2.0 in ./conda/conda_env/myenv/lib/python3.11/site-packages (from scikit-learn->sentence-transformers) (1.4.2)\n",
      "Requirement already satisfied: threadpoolctl>=3.1.0 in ./conda/conda_env/myenv/lib/python3.11/site-packages (from scikit-learn->sentence-transformers) (3.5.0)\n",
      "Requirement already satisfied: MarkupSafe>=2.0 in ./conda/conda_env/myenv/lib/python3.11/site-packages (from jinja2->torch>=1.11.0->sentence-transformers) (2.1.5)\n",
      "Requirement already satisfied: charset-normalizer<4,>=2 in ./conda/conda_env/myenv/lib/python3.11/site-packages (from requests->huggingface-hub>=0.20.0->sentence-transformers) (3.4.0)\n",
      "Requirement already satisfied: idna<4,>=2.5 in ./conda/conda_env/myenv/lib/python3.11/site-packages (from requests->huggingface-hub>=0.20.0->sentence-transformers) (3.10)\n",
      "Requirement already satisfied: urllib3<3,>=1.21.1 in ./conda/conda_env/myenv/lib/python3.11/site-packages (from requests->huggingface-hub>=0.20.0->sentence-transformers) (2.2.3)\n",
      "Requirement already satisfied: certifi>=2017.4.17 in ./conda/conda_env/myenv/lib/python3.11/site-packages (from requests->huggingface-hub>=0.20.0->sentence-transformers) (2024.8.30)\n",
      "Requirement already satisfied: mpmath<1.4,>=1.1.0 in ./conda/conda_env/myenv/lib/python3.11/site-packages (from sympy->torch>=1.11.0->sentence-transformers) (1.3.0)\n",
      "Downloading sentence_transformers-3.4.1-py3-none-any.whl (275 kB)\n",
      "Installing collected packages: sentence-transformers\n",
      "Successfully installed sentence-transformers-3.4.1\n"
     ]
    }
   ],
   "source": [
    "#this is minimum pre-requisites\n",
    "!pip install langchain\n",
    "!pip install sentence-transformers"
   ]
  },
  {
   "cell_type": "code",
   "execution_count": 4,
   "id": "50f89992-ebf3-4c59-a927-840e7efeea6b",
   "metadata": {},
   "outputs": [
    {
     "data": {
      "application/vnd.jupyter.widget-view+json": {
       "model_id": "454e84f8e8254366bd46d91228c3da3c",
       "version_major": 2,
       "version_minor": 0
      },
      "text/plain": [
       "pytorch_model.bin:   0%|          | 0.00/2.24G [00:00<?, ?B/s]"
      ]
     },
     "metadata": {},
     "output_type": "display_data"
    },
    {
     "data": {
      "application/vnd.jupyter.widget-view+json": {
       "model_id": "a5a8d48a15e8466e9983cef11e8b35a1",
       "version_major": 2,
       "version_minor": 0
      },
      "text/plain": [
       "tokenizer_config.json:   0%|          | 0.00/25.0 [00:00<?, ?B/s]"
      ]
     },
     "metadata": {},
     "output_type": "display_data"
    },
    {
     "data": {
      "application/vnd.jupyter.widget-view+json": {
       "model_id": "896d14a144a24e5a81bff6a8d9f92744",
       "version_major": 2,
       "version_minor": 0
      },
      "text/plain": [
       "config.json:   0%|          | 0.00/616 [00:00<?, ?B/s]"
      ]
     },
     "metadata": {},
     "output_type": "display_data"
    },
    {
     "data": {
      "application/vnd.jupyter.widget-view+json": {
       "model_id": "7909f62509a84236a91f5d7d8c5a3926",
       "version_major": 2,
       "version_minor": 0
      },
      "text/plain": [
       "sentencepiece.bpe.model:   0%|          | 0.00/5.07M [00:00<?, ?B/s]"
      ]
     },
     "metadata": {},
     "output_type": "display_data"
    },
    {
     "data": {
      "application/vnd.jupyter.widget-view+json": {
       "model_id": "861b7d55a3fb4f819a1811e041688d94",
       "version_major": 2,
       "version_minor": 0
      },
      "text/plain": [
       "tokenizer.json:   0%|          | 0.00/9.10M [00:00<?, ?B/s]"
      ]
     },
     "metadata": {},
     "output_type": "display_data"
    },
    {
     "name": "stdout",
     "output_type": "stream",
     "text": [
      "2025-02-19 15:45:36,483 SequenceTagger predicts: Dictionary with 20 tags: <unk>, O, B-PER, E-PER, S-LOC, B-MISC, I-MISC, E-MISC, S-PER, B-ORG, E-ORG, S-ORG, I-ORG, B-LOC, E-LOC, S-MISC, I-PER, I-LOC, <START>, <STOP>\n"
     ]
    }
   ],
   "source": [
    "# using model from huggingface: https://huggingface.co/flair/ner-german-large\n",
    "import pandas as pd\n",
    "from flair.data import Sentence\n",
    "from flair.models import SequenceTagger\n",
    "\n",
    "# Load the Flair NER model for German\n",
    "tagger = SequenceTagger.load(\"flair/ner-german-large\")"
   ]
  },
  {
   "cell_type": "code",
   "execution_count": 5,
   "id": "5b45a28f-5288-41a6-a554-1a0c360c44d0",
   "metadata": {},
   "outputs": [
    {
     "name": "stdout",
     "output_type": "stream",
     "text": [
      "Sentence[5]: \"George Washington ging nach Washington\" → [\"George Washington\"/PER, \"Washington\"/LOC]\n",
      "The following NER tags are found:\n",
      "Span[0:2]: \"George Washington\" → PER (1.0000)\n",
      "Span[4:5]: \"Washington\" → LOC (1.0000)\n"
     ]
    }
   ],
   "source": [
    "# make example sentence\n",
    "sentence = Sentence(\"George Washington ging nach Washington\")\n",
    "\n",
    "# predict NER tags\n",
    "tagger.predict(sentence)\n",
    "\n",
    "# print sentence\n",
    "print(sentence)\n",
    "\n",
    "# print predicted NER spans\n",
    "print('The following NER tags are found:')\n",
    "# iterate over entities and print\n",
    "for entity in sentence.get_spans('ner'):\n",
    "    print(entity)"
   ]
  },
  {
   "cell_type": "code",
   "execution_count": 17,
   "id": "f6f486d2-4cd3-48bd-9bb4-d1045639e393",
   "metadata": {},
   "outputs": [],
   "source": [
    "import os\n",
    "# Function to extract locations from a given text\n",
    "def extract_person_names(text):\n",
    "    sentence = Sentence(text)\n",
    "    tagger.predict(sentence)\n",
    "    entities = sentence.get_spans('ner')\n",
    "    names = []\n",
    "    for entity in entities:\n",
    "        if entity.get_label('ner').value == 'PER':\n",
    "            names.append(entity.text)\n",
    "            print(\"found name: \" + entity.text )\n",
    "    return names\n"
   ]
  },
  {
   "cell_type": "code",
   "execution_count": 18,
   "id": "2329a3c2-5dcd-40c7-aa1f-d65832b67c07",
   "metadata": {},
   "outputs": [],
   "source": [
    "# Function to read the content of a text file\n",
    "def read_text_file(file_path):\n",
    "    with open(file_path, 'r', encoding='utf-8') as file:\n",
    "        return file.read()"
   ]
  },
  {
   "cell_type": "code",
   "execution_count": 19,
   "id": "38acb7b7-c022-43d6-b802-9693818f808f",
   "metadata": {},
   "outputs": [
    {
     "name": "stdout",
     "output_type": "stream",
     "text": [
      "Processing file: 22_5213_1.txt\n",
      "found name: juliane timmermann\n",
      "Processing file: 22_5213_2.txt\n",
      "Processing file: 22_5213_3.txt\n",
      "Processing file: 22_5213_4.txt\n",
      "found name: carl cohn\n",
      "Processing file: 22_5213_5.txt\n",
      "Processing file: 22_5213_6.txt\n"
     ]
    },
    {
     "data": {
      "text/plain": [
       "[{'doc_number': '22_5213_1', 'name': 'juliane timmermann'},\n",
       " {'doc_number': '22_5213_4', 'name': 'carl cohn'}]"
      ]
     },
     "execution_count": 19,
     "metadata": {},
     "output_type": "execute_result"
    }
   ],
   "source": [
    "extracted_names = []\n",
    "\n",
    "for files in txt_files:\n",
    "    print(f\"Processing file: {files}\")\n",
    "    content = read_text_file(input_folder + files)\n",
    "    names = extract_person_names(content)\n",
    "    doc_number = os.path.splitext(files)[0]\n",
    "    unique_names = list(set(names))  # Remove duplicates\n",
    "    for name in unique_names:\n",
    "        extracted_names.append({'doc_number': doc_number, 'name': name})\n",
    "       \n",
    "\n",
    "extracted_names"
   ]
  },
  {
   "cell_type": "code",
   "execution_count": 21,
   "id": "f9595305-ace7-4d14-97b9-fa7682f93af3",
   "metadata": {},
   "outputs": [
    {
     "data": {
      "text/html": [
       "<div>\n",
       "<style scoped>\n",
       "    .dataframe tbody tr th:only-of-type {\n",
       "        vertical-align: middle;\n",
       "    }\n",
       "\n",
       "    .dataframe tbody tr th {\n",
       "        vertical-align: top;\n",
       "    }\n",
       "\n",
       "    .dataframe thead th {\n",
       "        text-align: right;\n",
       "    }\n",
       "</style>\n",
       "<table border=\"1\" class=\"dataframe\">\n",
       "  <thead>\n",
       "    <tr style=\"text-align: right;\">\n",
       "      <th></th>\n",
       "      <th>doc_number</th>\n",
       "      <th>name</th>\n",
       "    </tr>\n",
       "  </thead>\n",
       "  <tbody>\n",
       "    <tr>\n",
       "      <th>0</th>\n",
       "      <td>22_5213_1</td>\n",
       "      <td>juliane timmermann</td>\n",
       "    </tr>\n",
       "    <tr>\n",
       "      <th>1</th>\n",
       "      <td>22_5213_4</td>\n",
       "      <td>carl cohn</td>\n",
       "    </tr>\n",
       "  </tbody>\n",
       "</table>\n",
       "</div>"
      ],
      "text/plain": [
       "  doc_number                name\n",
       "0  22_5213_1  juliane timmermann\n",
       "1  22_5213_4           carl cohn"
      ]
     },
     "execution_count": 21,
     "metadata": {},
     "output_type": "execute_result"
    }
   ],
   "source": [
    "# Create a DataFrame with the extracted names\n",
    "names_df = pd.DataFrame(extracted_names)\n",
    "names_df"
   ]
  },
  {
   "cell_type": "code",
   "execution_count": 22,
   "id": "172b85b6-ad6c-4cea-9d83-f01f9d025924",
   "metadata": {},
   "outputs": [],
   "source": [
    "def remove_names_from_text(input_file, output_file, names_df):\n",
    "    \"\"\"\n",
    "    Remove names from input text file using a predefined DataFrame of names\n",
    "    \n",
    "    Parameters:\n",
    "    input_file (str): Path to input text file\n",
    "    output_file (str): Path to output text file\n",
    "    names_df (pandas.DataFrame): DataFrame containing names to remove\n",
    "    \"\"\"\n",
    "    # Convert names to list and make case-insensitive pattern\n",
    "    names_list = names_df['name'].tolist()\n",
    "    \n",
    "    # Create regex pattern for whole word matching\n",
    "    pattern = r'\\b(' + '|'.join(map(re.escape, names_list)) + r')\\b'\n",
    "    \n",
    "    try:\n",
    "        # Read input file\n",
    "        with open(input_file, 'r', encoding='utf-8') as f:\n",
    "            text = f.read()\n",
    "        \n",
    "        # Remove names (case insensitive)\n",
    "        processed_text = re.sub(pattern, '[REDACTED]', text, flags=re.IGNORECASE)\n",
    "        \n",
    "        # Write to output file\n",
    "        with open(output_file, 'w', encoding='utf-8') as f:\n",
    "            f.write(processed_text)\n",
    "            \n",
    "        print(f\"Successfully processed {input_file} and saved to {output_file}\")\n",
    "        \n",
    "    except Exception as e:\n",
    "        print(f\"An error occurred: {str(e)}\")"
   ]
  },
  {
   "cell_type": "code",
   "execution_count": 24,
   "id": "c4e6c770-4871-4f6b-a849-7813cfe720f0",
   "metadata": {},
   "outputs": [
    {
     "name": "stdout",
     "output_type": "stream",
     "text": [
      "Processing file: 22_5213_1.txt\n",
      "Successfully processed 5213/pdf/txt/22_5213_1.txt and saved to 5213/pdf/out/22_5213_1.txt\n",
      "Processing file: 22_5213_2.txt\n",
      "Successfully processed 5213/pdf/txt/22_5213_2.txt and saved to 5213/pdf/out/22_5213_2.txt\n",
      "Processing file: 22_5213_3.txt\n",
      "Successfully processed 5213/pdf/txt/22_5213_3.txt and saved to 5213/pdf/out/22_5213_3.txt\n",
      "Processing file: 22_5213_4.txt\n",
      "Successfully processed 5213/pdf/txt/22_5213_4.txt and saved to 5213/pdf/out/22_5213_4.txt\n",
      "Processing file: 22_5213_5.txt\n",
      "Successfully processed 5213/pdf/txt/22_5213_5.txt and saved to 5213/pdf/out/22_5213_5.txt\n",
      "Processing file: 22_5213_6.txt\n",
      "Successfully processed 5213/pdf/txt/22_5213_6.txt and saved to 5213/pdf/out/22_5213_6.txt\n"
     ]
    }
   ],
   "source": [
    "# removing names from txt files\n",
    "output_folder = \"5213/pdf/out/\"\n",
    "for files in txt_files:\n",
    "    print(f\"Processing file: {files}\")\n",
    "    remove_names_from_text(input_folder+files, output_folder+files, names_df)"
   ]
  },
  {
   "cell_type": "code",
   "execution_count": null,
   "id": "77f80d25-9a36-474c-bed1-cf0500974bf2",
   "metadata": {},
   "outputs": [],
   "source": []
  }
 ],
 "metadata": {
  "kernelspec": {
   "display_name": "Python 3 (ipykernel)",
   "language": "python",
   "name": "python3"
  },
  "language_info": {
   "codemirror_mode": {
    "name": "ipython",
    "version": 3
   },
   "file_extension": ".py",
   "mimetype": "text/x-python",
   "name": "python",
   "nbconvert_exporter": "python",
   "pygments_lexer": "ipython3",
   "version": "3.11.10"
  }
 },
 "nbformat": 4,
 "nbformat_minor": 5
}
